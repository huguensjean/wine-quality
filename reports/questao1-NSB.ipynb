{
 "cells": [
  {
   "cell_type": "markdown",
   "metadata": {},
   "source": [
    "# Questão 1\n",
    "\n",
    "___\n",
    "\n",
    "Utilizando a toolbox de sua preferência, realize o treinamento de uma rede neural artificial do tipo Perceptron Multicamadas para resolver um problema de classificação multiclasses. Além do conjunto de treinamento, considere um conjunto de validação para avaliação final do método. \n",
    "\n",
    "Descreva as características dos dados, descreva a arquitetura da rede (dimensão, número de camadas) e discuta aspectos de desempenho (forma de divisão dos dados para treinamento, validação e teste, porcentagem de classificação correta, matriz de confusão).\n",
    "\n",
    "___"
   ]
  },
  {
   "cell_type": "markdown",
   "metadata": {},
   "source": [
    "## Introdução\n",
    "\n",
    "Para a execucação deste trabalho escolhi o dataset 'wine-quality' da UCI Machine Learning repository. O dataset descreve 11 features fisico-quimicas de mais de 4000 vinhos do norte de Portugal e uma target que descreve a qualidade do vinho em uma nota de 0 a 10. Utilizando esse dataset a principal tarefa de machine learning é prever a qualidade de um vinho levando em consideração sua features.\n",
    "\n",
    "A feature target, apesar de numericamente representada determina uma categoria na forma ordinal. Ela possui valores que podem variar entre 0 e 10, sendo 0 a pior qualidade e 10 a melhor qualidade, porém não existe a possibilidade de uma nota 11 esse é o comportamento de uma variável categorica ordinal. Essa é a descrição completa das features esperadas no dataset.\n",
    "\n",
    "| feature_name                                  \t|\n",
    "|-----------------------------------------------\t|\n",
    "| fixed acidity                                 \t|\n",
    "| volatile acidity                              \t|\n",
    "| citric acid                                   \t|\n",
    "| residual sugar                                \t|\n",
    "| chlorides                                     \t|\n",
    "| free sulfur dioxide                           \t|\n",
    "| total sulfur dioxide                          \t|\n",
    "| density                                       \t|\n",
    "| pH                                            \t|\n",
    "| sulphates                                     \t|\n",
    "| alcohol                                       \t|\n",
    "| quality (score between 0 and 10) -- target -- \t|\n",
    "\n",
    "\n",
    "## Etapas\n",
    "\n",
    "Montei o trabalho de forma que ele possa ser reproduzido de forma fácil e sem a necessidade da execução de jupyter notebooks. No arquivo README.MD na raiz do projeto coloquei também uma estrutura do projeto. A pasta 'src' prossui scripts feitos inteiramente em python para executar as tarefas de coleta dos dados, limpeza, feature engineering, construção e treinamento do modelo MLP que será utilizado nesse projeto. O diagrama abaixo demonstra as etapas do projeto seguindo o código em 'src'.\n",
    "\n",
    "\n",
    "![etapas](etapas.png)\n",
    "\n",
    "\n",
    "\n",
    "### make_dataset.py\n",
    "\n",
    "Esse script : \n",
    "\n",
    "1. avalia todos os arquivos .csv encontrados dentro de 'data/raw';\n",
    "2. os concatena; \n",
    "3. reseta seus índices para melhor indexação; \n",
    "4. salva o resultado chamado de intermediate_dataset.csv em 'data/intermediate'.\n",
    "\n",
    "### make_features.py\n",
    "\n",
    "Esse script:\n",
    "\n",
    "1. carrega o dataset intermediário;\n",
    "2. renomeia as colunas;\n",
    "3. cria a feature 'rest_of_sulfur' com os valores da diferença entre as feature 'total sulfur dioxide' e 'free sulfur dioxide';\n",
    "4. cria a feature 'volatile_acid_types' utilizando a tecnica de binning com a feature 'volatile_acid';\n",
    "5. crea a feature 'target' utilizando a tecnica de binning e definindo três classes ( 0 -> quality 3,4,5; 1 -> quality  6; 2 -> quality > 6);\n",
    "6. drop a feature 'quality' para manter somente a feature 'target';\n",
    "7. define X e y;\n",
    "8. usando ColumnTransformer aplica One Hot Encoding à feature 'volatile_acid_types' e Quantile Transformer a todas as outras;\n",
    "9. cria o dataframe final utilizando o resultado do ColumnTransformer e adicionando novamente a coluna 'target' definida como y;\n",
    "10. salva o dataframe final como 'final_dataframe.csv' em 'data/final'.\n",
    "\n",
    "obs.: Não houve a necessidade de tratamento de valores nulos, pois o dataset não os possui. Não houve a necessidade do tratamento de outlier porque a QuantileTransformer é considerado uma técnicas robusta a outlier, suavizando o peso que eles possuem no momento da trasnformação.\n",
    "\n",
    "### train_model.py\n",
    "\n",
    "Esse script define a classe myMLPmodel que:\n",
    "\n",
    "1. carrega o dataframe final;\n",
    "2. define X e y;\n",
    "3. divide os dados em treino e teste;\n",
    "4. converte os valores de y para categóricas utilizando keras.to_categorical;\n",
    "5. define o modelo sequencial;\n",
    "6. adiciona ao modelo sequencial 3 camadas com ativação relu, sendo que a primeira e a terceira possuem regularização l2 para previnir overfitting;\n",
    "7. adiciona a camada de saída com ativação softmax.\n",
    "8. compila o modelo utilizando 'adam' como otimizador, 'categorical_crossentropy' como loss e 'accuracy' como métrica;\n",
    "9. fita o modelo utilizando um batch_size de 32 e passando também os dados para validação ao final de cada época;\n",
    "10. salva o modelo em json e seus pesos em hd5;\n",
    "11. gera um subplot demonstrando o comportamento das curvas de loss e accuracy;\n",
    "12. gera o plot do modelo, demonstrando a sua arquitetura;\n",
    "13. gera a matrix de confusão.\n",
    "\n",
    "O modelo foi todo criado em formato de classe do python para que pudesse ser instanciado várias vezes e ter seus resultados comparados.\n",
    "\n",
    "A análise estatística completa dos dados pode ser vista em 'notebooks/1.0-eda-data-prep.ipynb'.\n",
    "\n",
    "### Referências\n",
    "___\n",
    "\n",
    "[Dataset - UCI MACHINE LEARNING REPOSITORY](http://archive.ics.uci.edu/ml/datasets/Wine+Quality)\n",
    "\n",
    "[WHAT IS THE DIFFERENCE BETWEEN CATEGORICAL, ORDINAL AND NUMERICAL VARIABLES?](https://stats.idre.ucla.edu/other/mult-pkg/whatstat/what-is-the-difference-between-categorical-ordinal-and-numerical-variables/)\n",
    "\n",
    "[Keras documentation](https://keras.io/)\n",
    "\n",
    "[Sequential Model - Keras](https://keras.io/models/sequential/)\n",
    "\n",
    "[to_categorical - Keras](https://keras.io/utils/#to_categorical)\n",
    "\n",
    "[regularizers - Keras](https://keras.io/regularizers/)\n",
    "\n",
    "[Understanding Categorical Cross-Entropy Loss, Binary Cross-Entropy Loss, Softmax Loss, Logistic Loss, Focal Loss and all those confusing names](https://gombru.github.io/2018/05/23/cross_entropy_loss/)\n",
    "\n",
    "___"
   ]
  },
  {
   "cell_type": "markdown",
   "metadata": {},
   "source": [
    "## Execução\n",
    "\n",
    "Para a execução do projeto precisamos primeiro, executar os scripts make_dataset.py e make_features.py."
   ]
  },
  {
   "cell_type": "code",
   "execution_count": 1,
   "metadata": {},
   "outputs": [
    {
     "name": "stdout",
     "output_type": "stream",
     "text": [
      "Files found: ['data/raw/winequality-red.csv', 'data/raw/winequality-white.csv'].\n",
      "100%|████████████████████████████████████████████| 2/2 [00:00<00:00, 250.55it/s]\n",
      "Dataframes created: 2.\n",
      "Intermediate dataframe created: 6497 rows e 12 columns.\n"
     ]
    }
   ],
   "source": [
    "## Executando o script make_dataset.py\n",
    "!python3 ./src/data/make_dataset.py"
   ]
  },
  {
   "cell_type": "code",
   "execution_count": 2,
   "metadata": {},
   "outputs": [
    {
     "name": "stdout",
     "output_type": "stream",
     "text": [
      "File found: intermediate_dataset.csv\n",
      "Loading the dataset.\n",
      "Initializing data preparation.\n",
      "final_dataframe created with (6497, 17) shape.\n"
     ]
    }
   ],
   "source": [
    "## Executando o script make_features.py\n",
    "!python3 ./src/features/make_features.py"
   ]
  },
  {
   "cell_type": "markdown",
   "metadata": {},
   "source": [
    "Com essas duas execuções o dataset já foi completamente carregado, tratado e transformado entrando em estado model-ready."
   ]
  },
  {
   "cell_type": "code",
   "execution_count": 3,
   "metadata": {},
   "outputs": [
    {
     "name": "stderr",
     "output_type": "stream",
     "text": [
      "Using TensorFlow backend.\n"
     ]
    }
   ],
   "source": [
    "## importando a classe que treina o modelo\n",
    "\n",
    "from src.models.train_model import myMLPmodel"
   ]
  },
  {
   "cell_type": "code",
   "execution_count": 4,
   "metadata": {},
   "outputs": [],
   "source": [
    "## o método construtor da classe nos pede duas informações, a quantidade de épocas e o tamanho do dataset de teste em relação ao dataset original.\n",
    "\n",
    "model = myMLPmodel(NUM_OF_EPOCHS = 200, test_size= 0.25)"
   ]
  },
  {
   "cell_type": "code",
   "execution_count": 5,
   "metadata": {},
   "outputs": [
    {
     "name": "stdout",
     "output_type": "stream",
     "text": [
      "Train on 4872 samples, validate on 1625 samples\n",
      "Epoch 1/200\n",
      "4872/4872 [==============================] - 1s 195us/step - loss: 2.6289 - accuracy: 0.3144 - val_loss: 2.0132 - val_accuracy: 0.4142\n",
      "Epoch 2/200\n",
      "4872/4872 [==============================] - 0s 92us/step - loss: 1.6954 - accuracy: 0.4442 - val_loss: 1.4324 - val_accuracy: 0.4825\n",
      "Epoch 3/200\n",
      "4872/4872 [==============================] - 0s 70us/step - loss: 1.2775 - accuracy: 0.5300 - val_loss: 1.1554 - val_accuracy: 0.5477\n",
      "Epoch 4/200\n",
      "4872/4872 [==============================] - 1s 105us/step - loss: 1.0798 - accuracy: 0.5686 - val_loss: 1.0281 - val_accuracy: 0.5582\n",
      "Epoch 5/200\n",
      "4872/4872 [==============================] - 0s 79us/step - loss: 0.9855 - accuracy: 0.5759 - val_loss: 0.9676 - val_accuracy: 0.5674\n",
      "Epoch 6/200\n",
      "4872/4872 [==============================] - 0s 74us/step - loss: 0.9414 - accuracy: 0.5819 - val_loss: 0.9430 - val_accuracy: 0.5618\n",
      "Epoch 7/200\n",
      "4872/4872 [==============================] - 0s 85us/step - loss: 0.9215 - accuracy: 0.5856 - val_loss: 0.9268 - val_accuracy: 0.5686\n",
      "Epoch 8/200\n",
      "4872/4872 [==============================] - 0s 94us/step - loss: 0.9092 - accuracy: 0.5872 - val_loss: 0.9183 - val_accuracy: 0.5735\n",
      "Epoch 9/200\n",
      "4872/4872 [==============================] - 0s 89us/step - loss: 0.9031 - accuracy: 0.5881 - val_loss: 0.9141 - val_accuracy: 0.5754\n",
      "Epoch 10/200\n",
      "4872/4872 [==============================] - 1s 126us/step - loss: 0.8963 - accuracy: 0.5905 - val_loss: 0.9102 - val_accuracy: 0.5760\n",
      "Epoch 11/200\n",
      "4872/4872 [==============================] - 1s 109us/step - loss: 0.8929 - accuracy: 0.5981 - val_loss: 0.9040 - val_accuracy: 0.5785\n",
      "Epoch 12/200\n",
      "4872/4872 [==============================] - 1s 116us/step - loss: 0.8884 - accuracy: 0.5924 - val_loss: 0.9044 - val_accuracy: 0.5766\n",
      "Epoch 13/200\n",
      "4872/4872 [==============================] - 1s 112us/step - loss: 0.8845 - accuracy: 0.5961 - val_loss: 0.9025 - val_accuracy: 0.5791\n",
      "Epoch 14/200\n",
      "4872/4872 [==============================] - 1s 131us/step - loss: 0.8834 - accuracy: 0.5952 - val_loss: 0.8977 - val_accuracy: 0.5785\n",
      "Epoch 15/200\n",
      "4872/4872 [==============================] - 1s 123us/step - loss: 0.8803 - accuracy: 0.5950 - val_loss: 0.8965 - val_accuracy: 0.5778\n",
      "Epoch 16/200\n",
      "4872/4872 [==============================] - 1s 192us/step - loss: 0.8781 - accuracy: 0.5973 - val_loss: 0.8964 - val_accuracy: 0.5717\n",
      "Epoch 17/200\n",
      "4872/4872 [==============================] - 1s 292us/step - loss: 0.8755 - accuracy: 0.5956 - val_loss: 0.8940 - val_accuracy: 0.5766\n",
      "Epoch 18/200\n",
      "4872/4872 [==============================] - 1s 229us/step - loss: 0.8742 - accuracy: 0.5977 - val_loss: 0.8917 - val_accuracy: 0.5717\n",
      "Epoch 19/200\n",
      "4872/4872 [==============================] - 2s 369us/step - loss: 0.8725 - accuracy: 0.5981 - val_loss: 0.8930 - val_accuracy: 0.5686\n",
      "Epoch 20/200\n",
      "4872/4872 [==============================] - 1s 253us/step - loss: 0.8715 - accuracy: 0.6008 - val_loss: 0.8879 - val_accuracy: 0.5735\n",
      "Epoch 21/200\n",
      "4872/4872 [==============================] - 2s 395us/step - loss: 0.8685 - accuracy: 0.6018 - val_loss: 0.8881 - val_accuracy: 0.5717\n",
      "Epoch 22/200\n",
      "4872/4872 [==============================] - 2s 507us/step - loss: 0.8658 - accuracy: 0.6020 - val_loss: 0.8865 - val_accuracy: 0.5766\n",
      "Epoch 23/200\n",
      "4872/4872 [==============================] - 1s 282us/step - loss: 0.8675 - accuracy: 0.5973 - val_loss: 0.8843 - val_accuracy: 0.5785\n",
      "Epoch 24/200\n",
      "4872/4872 [==============================] - 2s 393us/step - loss: 0.8652 - accuracy: 0.6028 - val_loss: 0.8837 - val_accuracy: 0.5809\n",
      "Epoch 25/200\n",
      "4872/4872 [==============================] - 3s 589us/step - loss: 0.8633 - accuracy: 0.6008 - val_loss: 0.8903 - val_accuracy: 0.5772\n",
      "Epoch 26/200\n",
      "4872/4872 [==============================] - 1s 299us/step - loss: 0.8649 - accuracy: 0.6037 - val_loss: 0.8843 - val_accuracy: 0.5772\n",
      "Epoch 27/200\n",
      "4872/4872 [==============================] - 1s 152us/step - loss: 0.8615 - accuracy: 0.6041 - val_loss: 0.8817 - val_accuracy: 0.5809\n",
      "Epoch 28/200\n",
      "4872/4872 [==============================] - 0s 101us/step - loss: 0.8599 - accuracy: 0.6055 - val_loss: 0.8777 - val_accuracy: 0.5803\n",
      "Epoch 29/200\n",
      "4872/4872 [==============================] - 1s 111us/step - loss: 0.8583 - accuracy: 0.6047 - val_loss: 0.8793 - val_accuracy: 0.5797\n",
      "Epoch 30/200\n",
      "4872/4872 [==============================] - 1s 130us/step - loss: 0.8588 - accuracy: 0.6051 - val_loss: 0.8794 - val_accuracy: 0.5785\n",
      "Epoch 31/200\n",
      "4872/4872 [==============================] - 1s 133us/step - loss: 0.8580 - accuracy: 0.6010 - val_loss: 0.8773 - val_accuracy: 0.5815\n",
      "Epoch 32/200\n",
      "4872/4872 [==============================] - 1s 137us/step - loss: 0.8591 - accuracy: 0.5993 - val_loss: 0.8755 - val_accuracy: 0.5791\n",
      "Epoch 33/200\n",
      "4872/4872 [==============================] - 1s 125us/step - loss: 0.8579 - accuracy: 0.6043 - val_loss: 0.8783 - val_accuracy: 0.5815\n",
      "Epoch 34/200\n",
      "4872/4872 [==============================] - 0s 82us/step - loss: 0.8548 - accuracy: 0.6018 - val_loss: 0.8767 - val_accuracy: 0.5840\n",
      "Epoch 35/200\n",
      "4872/4872 [==============================] - 0s 96us/step - loss: 0.8551 - accuracy: 0.6026 - val_loss: 0.8800 - val_accuracy: 0.5809\n",
      "Epoch 36/200\n",
      "4872/4872 [==============================] - 1s 110us/step - loss: 0.8539 - accuracy: 0.6026 - val_loss: 0.8742 - val_accuracy: 0.5760\n",
      "Epoch 37/200\n",
      "4872/4872 [==============================] - 0s 63us/step - loss: 0.8542 - accuracy: 0.6104 - val_loss: 0.8784 - val_accuracy: 0.5748\n",
      "Epoch 38/200\n",
      "4872/4872 [==============================] - 0s 62us/step - loss: 0.8545 - accuracy: 0.6063 - val_loss: 0.8710 - val_accuracy: 0.5834\n",
      "Epoch 39/200\n",
      "4872/4872 [==============================] - 1s 118us/step - loss: 0.8535 - accuracy: 0.6067 - val_loss: 0.8732 - val_accuracy: 0.5822\n",
      "Epoch 40/200\n",
      "4872/4872 [==============================] - 1s 205us/step - loss: 0.8531 - accuracy: 0.6018 - val_loss: 0.8716 - val_accuracy: 0.5877\n",
      "Epoch 41/200\n",
      "4872/4872 [==============================] - 1s 112us/step - loss: 0.8490 - accuracy: 0.6121 - val_loss: 0.8783 - val_accuracy: 0.5742\n",
      "Epoch 42/200\n",
      "4872/4872 [==============================] - 0s 98us/step - loss: 0.8541 - accuracy: 0.5973 - val_loss: 0.8749 - val_accuracy: 0.5840\n",
      "Epoch 43/200\n",
      "4872/4872 [==============================] - 1s 123us/step - loss: 0.8493 - accuracy: 0.6057 - val_loss: 0.8715 - val_accuracy: 0.5822\n",
      "Epoch 44/200\n",
      "4872/4872 [==============================] - 0s 92us/step - loss: 0.8494 - accuracy: 0.6082 - val_loss: 0.8724 - val_accuracy: 0.5791\n",
      "Epoch 45/200\n",
      "4872/4872 [==============================] - 1s 106us/step - loss: 0.8506 - accuracy: 0.6059 - val_loss: 0.8674 - val_accuracy: 0.5822\n",
      "Epoch 46/200\n",
      "4872/4872 [==============================] - 0s 67us/step - loss: 0.8506 - accuracy: 0.6055 - val_loss: 0.8727 - val_accuracy: 0.5785\n",
      "Epoch 47/200\n",
      "4872/4872 [==============================] - 1s 174us/step - loss: 0.8500 - accuracy: 0.6053 - val_loss: 0.8689 - val_accuracy: 0.5803\n",
      "Epoch 48/200\n",
      "4872/4872 [==============================] - 1s 174us/step - loss: 0.8481 - accuracy: 0.6030 - val_loss: 0.8671 - val_accuracy: 0.5815\n",
      "Epoch 49/200\n",
      "4872/4872 [==============================] - 0s 102us/step - loss: 0.8485 - accuracy: 0.6053 - val_loss: 0.8679 - val_accuracy: 0.5877\n",
      "Epoch 50/200\n",
      "4872/4872 [==============================] - 1s 112us/step - loss: 0.8482 - accuracy: 0.6057 - val_loss: 0.8694 - val_accuracy: 0.5809\n",
      "Epoch 51/200\n",
      "4872/4872 [==============================] - 1s 125us/step - loss: 0.8506 - accuracy: 0.6055 - val_loss: 0.8671 - val_accuracy: 0.5871\n",
      "Epoch 52/200\n",
      "4872/4872 [==============================] - 0s 91us/step - loss: 0.8472 - accuracy: 0.6055 - val_loss: 0.8694 - val_accuracy: 0.5809\n",
      "Epoch 53/200\n",
      "4872/4872 [==============================] - 0s 80us/step - loss: 0.8462 - accuracy: 0.6080 - val_loss: 0.8666 - val_accuracy: 0.5834\n",
      "Epoch 54/200\n",
      "4872/4872 [==============================] - 0s 93us/step - loss: 0.8452 - accuracy: 0.6100 - val_loss: 0.8755 - val_accuracy: 0.5791\n",
      "Epoch 55/200\n",
      "4872/4872 [==============================] - 0s 89us/step - loss: 0.8472 - accuracy: 0.6037 - val_loss: 0.8732 - val_accuracy: 0.5778\n",
      "Epoch 56/200\n",
      "4872/4872 [==============================] - 0s 80us/step - loss: 0.8464 - accuracy: 0.6020 - val_loss: 0.8703 - val_accuracy: 0.5840\n",
      "Epoch 57/200\n",
      "4872/4872 [==============================] - 1s 103us/step - loss: 0.8470 - accuracy: 0.6119 - val_loss: 0.8653 - val_accuracy: 0.5785\n",
      "Epoch 58/200\n",
      "4872/4872 [==============================] - 0s 84us/step - loss: 0.8456 - accuracy: 0.6047 - val_loss: 0.8644 - val_accuracy: 0.5828\n",
      "Epoch 59/200\n",
      "4872/4872 [==============================] - 0s 80us/step - loss: 0.8471 - accuracy: 0.6041 - val_loss: 0.8607 - val_accuracy: 0.5871\n",
      "Epoch 60/200\n",
      "4872/4872 [==============================] - 0s 93us/step - loss: 0.8429 - accuracy: 0.6088 - val_loss: 0.8648 - val_accuracy: 0.5834\n",
      "Epoch 61/200\n",
      "4872/4872 [==============================] - 1s 105us/step - loss: 0.8443 - accuracy: 0.6047 - val_loss: 0.8681 - val_accuracy: 0.5791\n",
      "Epoch 62/200\n",
      "4872/4872 [==============================] - 1s 115us/step - loss: 0.8439 - accuracy: 0.6082 - val_loss: 0.8619 - val_accuracy: 0.5846\n",
      "Epoch 63/200\n",
      "4872/4872 [==============================] - 0s 87us/step - loss: 0.8430 - accuracy: 0.6055 - val_loss: 0.8604 - val_accuracy: 0.5895\n",
      "Epoch 64/200\n",
      "4872/4872 [==============================] - 1s 105us/step - loss: 0.8427 - accuracy: 0.6078 - val_loss: 0.8703 - val_accuracy: 0.5778\n",
      "Epoch 65/200\n",
      "4872/4872 [==============================] - 0s 87us/step - loss: 0.8438 - accuracy: 0.6098 - val_loss: 0.8716 - val_accuracy: 0.5877\n",
      "Epoch 66/200\n",
      "4872/4872 [==============================] - 0s 82us/step - loss: 0.8456 - accuracy: 0.6086 - val_loss: 0.8682 - val_accuracy: 0.5797\n",
      "Epoch 67/200\n",
      "4872/4872 [==============================] - 0s 86us/step - loss: 0.8437 - accuracy: 0.6041 - val_loss: 0.8641 - val_accuracy: 0.5828\n",
      "Epoch 68/200\n",
      "4872/4872 [==============================] - 0s 73us/step - loss: 0.8424 - accuracy: 0.6008 - val_loss: 0.8593 - val_accuracy: 0.5920\n",
      "Epoch 69/200\n",
      "4872/4872 [==============================] - 0s 85us/step - loss: 0.8413 - accuracy: 0.6076 - val_loss: 0.8699 - val_accuracy: 0.5963\n",
      "Epoch 70/200\n",
      "4872/4872 [==============================] - 1s 128us/step - loss: 0.8441 - accuracy: 0.6043 - val_loss: 0.8653 - val_accuracy: 0.5926\n",
      "Epoch 71/200\n",
      "4872/4872 [==============================] - 1s 114us/step - loss: 0.8410 - accuracy: 0.6069 - val_loss: 0.8627 - val_accuracy: 0.5895\n",
      "Epoch 72/200\n",
      "4872/4872 [==============================] - 0s 89us/step - loss: 0.8410 - accuracy: 0.6069 - val_loss: 0.8709 - val_accuracy: 0.5785\n",
      "Epoch 73/200\n",
      "4872/4872 [==============================] - 0s 78us/step - loss: 0.8440 - accuracy: 0.6034 - val_loss: 0.8664 - val_accuracy: 0.5852\n",
      "Epoch 74/200\n",
      "4872/4872 [==============================] - 0s 76us/step - loss: 0.8394 - accuracy: 0.6094 - val_loss: 0.8635 - val_accuracy: 0.5852\n",
      "Epoch 75/200\n",
      "4872/4872 [==============================] - 0s 78us/step - loss: 0.8410 - accuracy: 0.6012 - val_loss: 0.8615 - val_accuracy: 0.5883\n",
      "Epoch 76/200\n",
      "4872/4872 [==============================] - 0s 88us/step - loss: 0.8412 - accuracy: 0.6106 - val_loss: 0.8618 - val_accuracy: 0.5889\n",
      "Epoch 77/200\n",
      "4872/4872 [==============================] - 0s 84us/step - loss: 0.8406 - accuracy: 0.6049 - val_loss: 0.8584 - val_accuracy: 0.5926\n",
      "Epoch 78/200\n",
      "4872/4872 [==============================] - 0s 78us/step - loss: 0.8398 - accuracy: 0.6080 - val_loss: 0.8690 - val_accuracy: 0.5951\n",
      "Epoch 79/200\n",
      "4872/4872 [==============================] - 0s 89us/step - loss: 0.8408 - accuracy: 0.6067 - val_loss: 0.8595 - val_accuracy: 0.5822\n",
      "Epoch 80/200\n",
      "4872/4872 [==============================] - 0s 92us/step - loss: 0.8395 - accuracy: 0.6065 - val_loss: 0.8566 - val_accuracy: 0.5785\n",
      "Epoch 81/200\n",
      "4872/4872 [==============================] - 0s 83us/step - loss: 0.8386 - accuracy: 0.6129 - val_loss: 0.8553 - val_accuracy: 0.5858\n",
      "Epoch 82/200\n",
      "4872/4872 [==============================] - 0s 73us/step - loss: 0.8394 - accuracy: 0.6088 - val_loss: 0.8767 - val_accuracy: 0.5785\n",
      "Epoch 83/200\n",
      "4872/4872 [==============================] - 0s 83us/step - loss: 0.8411 - accuracy: 0.6030 - val_loss: 0.8656 - val_accuracy: 0.5840\n",
      "Epoch 84/200\n",
      "4872/4872 [==============================] - 1s 120us/step - loss: 0.8400 - accuracy: 0.6057 - val_loss: 0.8623 - val_accuracy: 0.5803\n",
      "Epoch 85/200\n",
      "4872/4872 [==============================] - 0s 84us/step - loss: 0.8377 - accuracy: 0.6047 - val_loss: 0.8603 - val_accuracy: 0.5920\n",
      "Epoch 86/200\n",
      "4872/4872 [==============================] - 0s 77us/step - loss: 0.8370 - accuracy: 0.6080 - val_loss: 0.8664 - val_accuracy: 0.5785\n",
      "Epoch 87/200\n",
      "4872/4872 [==============================] - 0s 88us/step - loss: 0.8395 - accuracy: 0.6080 - val_loss: 0.8568 - val_accuracy: 0.5840\n",
      "Epoch 88/200\n",
      "4872/4872 [==============================] - 0s 88us/step - loss: 0.8379 - accuracy: 0.6055 - val_loss: 0.8568 - val_accuracy: 0.5895\n",
      "Epoch 89/200\n",
      "4872/4872 [==============================] - 0s 88us/step - loss: 0.8368 - accuracy: 0.6084 - val_loss: 0.8674 - val_accuracy: 0.5858\n",
      "Epoch 90/200\n",
      "4872/4872 [==============================] - 0s 83us/step - loss: 0.8381 - accuracy: 0.6069 - val_loss: 0.8615 - val_accuracy: 0.5840\n",
      "Epoch 91/200\n",
      "4872/4872 [==============================] - 0s 74us/step - loss: 0.8387 - accuracy: 0.6125 - val_loss: 0.8552 - val_accuracy: 0.5871\n",
      "Epoch 92/200\n",
      "4872/4872 [==============================] - 0s 82us/step - loss: 0.8370 - accuracy: 0.6016 - val_loss: 0.8687 - val_accuracy: 0.5754\n",
      "Epoch 93/200\n",
      "4872/4872 [==============================] - 0s 78us/step - loss: 0.8378 - accuracy: 0.6043 - val_loss: 0.8713 - val_accuracy: 0.5729\n",
      "Epoch 94/200\n",
      "4872/4872 [==============================] - 1s 104us/step - loss: 0.8374 - accuracy: 0.6073 - val_loss: 0.8634 - val_accuracy: 0.5815\n",
      "Epoch 95/200\n",
      "4872/4872 [==============================] - 0s 80us/step - loss: 0.8375 - accuracy: 0.6080 - val_loss: 0.8572 - val_accuracy: 0.5778\n",
      "Epoch 96/200\n",
      "4872/4872 [==============================] - 0s 85us/step - loss: 0.8391 - accuracy: 0.6055 - val_loss: 0.8582 - val_accuracy: 0.5951\n",
      "Epoch 97/200\n",
      "4872/4872 [==============================] - 0s 85us/step - loss: 0.8360 - accuracy: 0.6117 - val_loss: 0.8634 - val_accuracy: 0.5809\n",
      "Epoch 98/200\n",
      "4872/4872 [==============================] - 0s 76us/step - loss: 0.8386 - accuracy: 0.6055 - val_loss: 0.8626 - val_accuracy: 0.5822\n",
      "Epoch 99/200\n",
      "4872/4872 [==============================] - 0s 76us/step - loss: 0.8370 - accuracy: 0.6086 - val_loss: 0.8640 - val_accuracy: 0.5852\n",
      "Epoch 100/200\n",
      "4872/4872 [==============================] - 0s 87us/step - loss: 0.8356 - accuracy: 0.6063 - val_loss: 0.8638 - val_accuracy: 0.5785\n",
      "Epoch 101/200\n",
      "4872/4872 [==============================] - 0s 83us/step - loss: 0.8364 - accuracy: 0.6043 - val_loss: 0.8707 - val_accuracy: 0.5766\n",
      "Epoch 102/200\n",
      "4872/4872 [==============================] - 0s 102us/step - loss: 0.8400 - accuracy: 0.6018 - val_loss: 0.8587 - val_accuracy: 0.5822\n",
      "Epoch 103/200\n",
      "4872/4872 [==============================] - 1s 117us/step - loss: 0.8405 - accuracy: 0.6098 - val_loss: 0.8564 - val_accuracy: 0.5895\n",
      "Epoch 104/200\n",
      "4872/4872 [==============================] - 0s 72us/step - loss: 0.8354 - accuracy: 0.6084 - val_loss: 0.8593 - val_accuracy: 0.5877\n",
      "Epoch 105/200\n",
      "4872/4872 [==============================] - 0s 81us/step - loss: 0.8342 - accuracy: 0.6047 - val_loss: 0.8555 - val_accuracy: 0.5834\n",
      "Epoch 106/200\n",
      "4872/4872 [==============================] - 0s 92us/step - loss: 0.8373 - accuracy: 0.6115 - val_loss: 0.8599 - val_accuracy: 0.5902\n",
      "Epoch 107/200\n",
      "4872/4872 [==============================] - 0s 84us/step - loss: 0.8347 - accuracy: 0.6030 - val_loss: 0.8683 - val_accuracy: 0.5748\n",
      "Epoch 108/200\n",
      "4872/4872 [==============================] - 0s 72us/step - loss: 0.8374 - accuracy: 0.6026 - val_loss: 0.8752 - val_accuracy: 0.5735\n",
      "Epoch 109/200\n",
      "4872/4872 [==============================] - 0s 70us/step - loss: 0.8378 - accuracy: 0.6045 - val_loss: 0.8541 - val_accuracy: 0.5834\n",
      "Epoch 110/200\n",
      "4872/4872 [==============================] - 0s 71us/step - loss: 0.8386 - accuracy: 0.6055 - val_loss: 0.8608 - val_accuracy: 0.5822\n",
      "Epoch 111/200\n",
      "4872/4872 [==============================] - 1s 125us/step - loss: 0.8361 - accuracy: 0.6088 - val_loss: 0.8606 - val_accuracy: 0.5840\n",
      "Epoch 112/200\n",
      "4872/4872 [==============================] - 1s 111us/step - loss: 0.8351 - accuracy: 0.6065 - val_loss: 0.8586 - val_accuracy: 0.5871\n",
      "Epoch 113/200\n",
      "4872/4872 [==============================] - 0s 84us/step - loss: 0.8342 - accuracy: 0.6092 - val_loss: 0.8530 - val_accuracy: 0.5963\n",
      "Epoch 114/200\n",
      "4872/4872 [==============================] - 0s 85us/step - loss: 0.8364 - accuracy: 0.6063 - val_loss: 0.8591 - val_accuracy: 0.5834\n",
      "Epoch 115/200\n",
      "4872/4872 [==============================] - 0s 83us/step - loss: 0.8349 - accuracy: 0.6045 - val_loss: 0.8540 - val_accuracy: 0.5809\n",
      "Epoch 116/200\n",
      "4872/4872 [==============================] - 0s 83us/step - loss: 0.8384 - accuracy: 0.6076 - val_loss: 0.8538 - val_accuracy: 0.5877\n",
      "Epoch 117/200\n",
      "4872/4872 [==============================] - 0s 88us/step - loss: 0.8331 - accuracy: 0.6084 - val_loss: 0.8575 - val_accuracy: 0.5920\n",
      "Epoch 118/200\n",
      "4872/4872 [==============================] - 0s 72us/step - loss: 0.8371 - accuracy: 0.6106 - val_loss: 0.8627 - val_accuracy: 0.5785\n",
      "Epoch 119/200\n",
      "4872/4872 [==============================] - 0s 71us/step - loss: 0.8359 - accuracy: 0.6110 - val_loss: 0.8600 - val_accuracy: 0.5797\n",
      "Epoch 120/200\n",
      "4872/4872 [==============================] - 0s 84us/step - loss: 0.8359 - accuracy: 0.6051 - val_loss: 0.8608 - val_accuracy: 0.5914\n",
      "Epoch 121/200\n",
      "4872/4872 [==============================] - 0s 83us/step - loss: 0.8399 - accuracy: 0.6057 - val_loss: 0.8552 - val_accuracy: 0.5822\n",
      "Epoch 122/200\n",
      "4872/4872 [==============================] - 0s 92us/step - loss: 0.8358 - accuracy: 0.6022 - val_loss: 0.8529 - val_accuracy: 0.5815\n",
      "Epoch 123/200\n",
      "4872/4872 [==============================] - 0s 98us/step - loss: 0.8346 - accuracy: 0.6059 - val_loss: 0.8629 - val_accuracy: 0.5895\n",
      "Epoch 124/200\n",
      "4872/4872 [==============================] - 0s 79us/step - loss: 0.8321 - accuracy: 0.6080 - val_loss: 0.8618 - val_accuracy: 0.5908\n",
      "Epoch 125/200\n",
      "4872/4872 [==============================] - 0s 100us/step - loss: 0.8341 - accuracy: 0.6057 - val_loss: 0.8561 - val_accuracy: 0.5871\n",
      "Epoch 126/200\n",
      "4872/4872 [==============================] - 0s 84us/step - loss: 0.8359 - accuracy: 0.6063 - val_loss: 0.8592 - val_accuracy: 0.5846\n",
      "Epoch 127/200\n",
      "4872/4872 [==============================] - 0s 82us/step - loss: 0.8327 - accuracy: 0.6076 - val_loss: 0.8560 - val_accuracy: 0.5926\n",
      "Epoch 128/200\n",
      "4872/4872 [==============================] - 0s 79us/step - loss: 0.8342 - accuracy: 0.6055 - val_loss: 0.8567 - val_accuracy: 0.5822\n",
      "Epoch 129/200\n",
      "4872/4872 [==============================] - 0s 82us/step - loss: 0.8344 - accuracy: 0.6117 - val_loss: 0.8552 - val_accuracy: 0.5840\n",
      "Epoch 130/200\n",
      "4872/4872 [==============================] - 0s 98us/step - loss: 0.8347 - accuracy: 0.6086 - val_loss: 0.8574 - val_accuracy: 0.5803\n",
      "Epoch 131/200\n",
      "4872/4872 [==============================] - 0s 84us/step - loss: 0.8340 - accuracy: 0.6086 - val_loss: 0.8526 - val_accuracy: 0.5914\n",
      "Epoch 132/200\n",
      "4872/4872 [==============================] - 0s 94us/step - loss: 0.8335 - accuracy: 0.6049 - val_loss: 0.8606 - val_accuracy: 0.5772\n",
      "Epoch 133/200\n",
      "4872/4872 [==============================] - 1s 120us/step - loss: 0.8333 - accuracy: 0.6078 - val_loss: 0.8563 - val_accuracy: 0.5945\n",
      "Epoch 134/200\n",
      "4872/4872 [==============================] - 0s 88us/step - loss: 0.8340 - accuracy: 0.6034 - val_loss: 0.8698 - val_accuracy: 0.5809\n",
      "Epoch 135/200\n",
      "4872/4872 [==============================] - 0s 79us/step - loss: 0.8338 - accuracy: 0.6112 - val_loss: 0.8539 - val_accuracy: 0.5926\n",
      "Epoch 136/200\n",
      "4872/4872 [==============================] - 0s 78us/step - loss: 0.8338 - accuracy: 0.6137 - val_loss: 0.8516 - val_accuracy: 0.5846\n",
      "Epoch 137/200\n",
      "4872/4872 [==============================] - 0s 82us/step - loss: 0.8334 - accuracy: 0.6061 - val_loss: 0.8643 - val_accuracy: 0.5889\n",
      "Epoch 138/200\n",
      "4872/4872 [==============================] - 0s 86us/step - loss: 0.8328 - accuracy: 0.6076 - val_loss: 0.8548 - val_accuracy: 0.5852\n",
      "Epoch 139/200\n",
      "4872/4872 [==============================] - 0s 86us/step - loss: 0.8340 - accuracy: 0.6088 - val_loss: 0.8646 - val_accuracy: 0.5822\n",
      "Epoch 140/200\n",
      "4872/4872 [==============================] - 0s 83us/step - loss: 0.8361 - accuracy: 0.6076 - val_loss: 0.8571 - val_accuracy: 0.5822\n",
      "Epoch 141/200\n",
      "4872/4872 [==============================] - 0s 74us/step - loss: 0.8318 - accuracy: 0.6071 - val_loss: 0.8535 - val_accuracy: 0.5902\n",
      "Epoch 142/200\n",
      "4872/4872 [==============================] - 0s 79us/step - loss: 0.8335 - accuracy: 0.6084 - val_loss: 0.8567 - val_accuracy: 0.5871\n",
      "Epoch 143/200\n",
      "4872/4872 [==============================] - 0s 81us/step - loss: 0.8316 - accuracy: 0.6092 - val_loss: 0.8512 - val_accuracy: 0.5871\n",
      "Epoch 144/200\n",
      "4872/4872 [==============================] - 0s 88us/step - loss: 0.8324 - accuracy: 0.6022 - val_loss: 0.8541 - val_accuracy: 0.5902\n",
      "Epoch 145/200\n",
      "4872/4872 [==============================] - 0s 86us/step - loss: 0.8335 - accuracy: 0.6043 - val_loss: 0.8655 - val_accuracy: 0.5797\n",
      "Epoch 146/200\n",
      "4872/4872 [==============================] - 0s 69us/step - loss: 0.8331 - accuracy: 0.6112 - val_loss: 0.8628 - val_accuracy: 0.5791\n",
      "Epoch 147/200\n",
      "4872/4872 [==============================] - 0s 76us/step - loss: 0.8338 - accuracy: 0.6065 - val_loss: 0.8550 - val_accuracy: 0.5951\n",
      "Epoch 148/200\n",
      "4872/4872 [==============================] - 0s 72us/step - loss: 0.8336 - accuracy: 0.6092 - val_loss: 0.8555 - val_accuracy: 0.5932\n",
      "Epoch 149/200\n",
      "4872/4872 [==============================] - 0s 74us/step - loss: 0.8317 - accuracy: 0.6059 - val_loss: 0.8585 - val_accuracy: 0.5840\n",
      "Epoch 150/200\n",
      "4872/4872 [==============================] - 0s 94us/step - loss: 0.8330 - accuracy: 0.6063 - val_loss: 0.8590 - val_accuracy: 0.5908\n",
      "Epoch 151/200\n",
      "4872/4872 [==============================] - 0s 75us/step - loss: 0.8321 - accuracy: 0.6112 - val_loss: 0.8555 - val_accuracy: 0.5803\n",
      "Epoch 152/200\n",
      "4872/4872 [==============================] - 0s 63us/step - loss: 0.8334 - accuracy: 0.6131 - val_loss: 0.8579 - val_accuracy: 0.5822\n",
      "Epoch 153/200\n",
      "4872/4872 [==============================] - 0s 89us/step - loss: 0.8334 - accuracy: 0.6071 - val_loss: 0.8546 - val_accuracy: 0.5858\n",
      "Epoch 154/200\n",
      "4872/4872 [==============================] - 0s 83us/step - loss: 0.8306 - accuracy: 0.6151 - val_loss: 0.8579 - val_accuracy: 0.5883\n",
      "Epoch 155/200\n",
      "4872/4872 [==============================] - 0s 88us/step - loss: 0.8295 - accuracy: 0.6106 - val_loss: 0.8612 - val_accuracy: 0.5748\n",
      "Epoch 156/200\n",
      "4872/4872 [==============================] - 0s 77us/step - loss: 0.8346 - accuracy: 0.6100 - val_loss: 0.8586 - val_accuracy: 0.5803\n",
      "Epoch 157/200\n",
      "4872/4872 [==============================] - 0s 72us/step - loss: 0.8309 - accuracy: 0.6158 - val_loss: 0.8527 - val_accuracy: 0.5865\n",
      "Epoch 158/200\n",
      "4872/4872 [==============================] - 0s 78us/step - loss: 0.8313 - accuracy: 0.6104 - val_loss: 0.8559 - val_accuracy: 0.5822\n",
      "Epoch 159/200\n",
      "4872/4872 [==============================] - 0s 102us/step - loss: 0.8346 - accuracy: 0.6061 - val_loss: 0.8545 - val_accuracy: 0.5797\n",
      "Epoch 160/200\n",
      "4872/4872 [==============================] - 0s 101us/step - loss: 0.8312 - accuracy: 0.6094 - val_loss: 0.8468 - val_accuracy: 0.5914\n",
      "Epoch 161/200\n",
      "4872/4872 [==============================] - 0s 69us/step - loss: 0.8316 - accuracy: 0.6039 - val_loss: 0.8520 - val_accuracy: 0.5883\n",
      "Epoch 162/200\n",
      "4872/4872 [==============================] - 0s 73us/step - loss: 0.8282 - accuracy: 0.6106 - val_loss: 0.8581 - val_accuracy: 0.5858\n",
      "Epoch 163/200\n",
      "4872/4872 [==============================] - 0s 85us/step - loss: 0.8327 - accuracy: 0.6076 - val_loss: 0.8495 - val_accuracy: 0.5852\n",
      "Epoch 164/200\n",
      "4872/4872 [==============================] - 0s 94us/step - loss: 0.8316 - accuracy: 0.6088 - val_loss: 0.8496 - val_accuracy: 0.5858\n",
      "Epoch 165/200\n",
      "4872/4872 [==============================] - 0s 97us/step - loss: 0.8340 - accuracy: 0.6080 - val_loss: 0.8533 - val_accuracy: 0.5932\n",
      "Epoch 166/200\n",
      "4872/4872 [==============================] - 0s 88us/step - loss: 0.8341 - accuracy: 0.6082 - val_loss: 0.8528 - val_accuracy: 0.5957\n",
      "Epoch 167/200\n",
      "4872/4872 [==============================] - 0s 75us/step - loss: 0.8322 - accuracy: 0.6063 - val_loss: 0.8525 - val_accuracy: 0.5908\n",
      "Epoch 168/200\n",
      "4872/4872 [==============================] - 0s 102us/step - loss: 0.8328 - accuracy: 0.6049 - val_loss: 0.8538 - val_accuracy: 0.5914\n",
      "Epoch 169/200\n",
      "4872/4872 [==============================] - 0s 82us/step - loss: 0.8319 - accuracy: 0.6059 - val_loss: 0.8620 - val_accuracy: 0.5815\n",
      "Epoch 170/200\n",
      "4872/4872 [==============================] - 0s 93us/step - loss: 0.8302 - accuracy: 0.6102 - val_loss: 0.8485 - val_accuracy: 0.5871\n",
      "Epoch 171/200\n",
      "4872/4872 [==============================] - 1s 110us/step - loss: 0.8312 - accuracy: 0.6100 - val_loss: 0.8530 - val_accuracy: 0.5865\n",
      "Epoch 172/200\n",
      "4872/4872 [==============================] - 0s 90us/step - loss: 0.8297 - accuracy: 0.6119 - val_loss: 0.8624 - val_accuracy: 0.5785\n",
      "Epoch 173/200\n",
      "4872/4872 [==============================] - 0s 80us/step - loss: 0.8319 - accuracy: 0.6069 - val_loss: 0.8529 - val_accuracy: 0.5865\n",
      "Epoch 174/200\n",
      "4872/4872 [==============================] - 0s 92us/step - loss: 0.8351 - accuracy: 0.6067 - val_loss: 0.8545 - val_accuracy: 0.5908\n",
      "Epoch 175/200\n",
      "4872/4872 [==============================] - 0s 80us/step - loss: 0.8290 - accuracy: 0.6100 - val_loss: 0.8502 - val_accuracy: 0.5938\n",
      "Epoch 176/200\n",
      "4872/4872 [==============================] - 0s 75us/step - loss: 0.8315 - accuracy: 0.6133 - val_loss: 0.8641 - val_accuracy: 0.5865\n",
      "Epoch 177/200\n",
      "4872/4872 [==============================] - 0s 88us/step - loss: 0.8321 - accuracy: 0.6117 - val_loss: 0.8691 - val_accuracy: 0.5834\n",
      "Epoch 178/200\n",
      "4872/4872 [==============================] - 0s 78us/step - loss: 0.8291 - accuracy: 0.6108 - val_loss: 0.8517 - val_accuracy: 0.5797\n",
      "Epoch 179/200\n",
      "4872/4872 [==============================] - 0s 80us/step - loss: 0.8307 - accuracy: 0.6073 - val_loss: 0.8488 - val_accuracy: 0.5871\n",
      "Epoch 180/200\n",
      "4872/4872 [==============================] - 0s 70us/step - loss: 0.8310 - accuracy: 0.6059 - val_loss: 0.8580 - val_accuracy: 0.5828\n",
      "Epoch 181/200\n",
      "4872/4872 [==============================] - 0s 59us/step - loss: 0.8306 - accuracy: 0.6143 - val_loss: 0.8567 - val_accuracy: 0.5852\n",
      "Epoch 182/200\n",
      "4872/4872 [==============================] - 0s 67us/step - loss: 0.8301 - accuracy: 0.6084 - val_loss: 0.8614 - val_accuracy: 0.5766\n",
      "Epoch 183/200\n",
      "4872/4872 [==============================] - 0s 83us/step - loss: 0.8312 - accuracy: 0.6076 - val_loss: 0.8521 - val_accuracy: 0.5889\n",
      "Epoch 184/200\n",
      "4872/4872 [==============================] - 0s 89us/step - loss: 0.8289 - accuracy: 0.6094 - val_loss: 0.8488 - val_accuracy: 0.5914\n",
      "Epoch 185/200\n",
      "4872/4872 [==============================] - 0s 89us/step - loss: 0.8290 - accuracy: 0.6121 - val_loss: 0.8493 - val_accuracy: 0.5902\n",
      "Epoch 186/200\n",
      "4872/4872 [==============================] - 0s 68us/step - loss: 0.8300 - accuracy: 0.6100 - val_loss: 0.8558 - val_accuracy: 0.5945\n",
      "Epoch 187/200\n",
      "4872/4872 [==============================] - 0s 72us/step - loss: 0.8290 - accuracy: 0.6149 - val_loss: 0.8600 - val_accuracy: 0.5828\n",
      "Epoch 188/200\n",
      "4872/4872 [==============================] - 0s 77us/step - loss: 0.8296 - accuracy: 0.6094 - val_loss: 0.8477 - val_accuracy: 0.5982\n",
      "Epoch 189/200\n",
      "4872/4872 [==============================] - 0s 98us/step - loss: 0.8314 - accuracy: 0.6063 - val_loss: 0.8484 - val_accuracy: 0.5914\n",
      "Epoch 190/200\n",
      "4872/4872 [==============================] - 0s 99us/step - loss: 0.8308 - accuracy: 0.6065 - val_loss: 0.8508 - val_accuracy: 0.5957\n",
      "Epoch 191/200\n",
      "4872/4872 [==============================] - 0s 98us/step - loss: 0.8292 - accuracy: 0.6088 - val_loss: 0.8541 - val_accuracy: 0.5803\n",
      "Epoch 192/200\n",
      "4872/4872 [==============================] - 0s 93us/step - loss: 0.8285 - accuracy: 0.6069 - val_loss: 0.8574 - val_accuracy: 0.5988\n",
      "Epoch 193/200\n",
      "4872/4872 [==============================] - 0s 82us/step - loss: 0.8322 - accuracy: 0.6080 - val_loss: 0.8447 - val_accuracy: 0.5908\n",
      "Epoch 194/200\n",
      "4872/4872 [==============================] - 0s 77us/step - loss: 0.8274 - accuracy: 0.6100 - val_loss: 0.8520 - val_accuracy: 0.5914\n",
      "Epoch 195/200\n",
      "4872/4872 [==============================] - 0s 76us/step - loss: 0.8310 - accuracy: 0.6106 - val_loss: 0.8479 - val_accuracy: 0.5951\n",
      "Epoch 196/200\n",
      "4872/4872 [==============================] - 0s 84us/step - loss: 0.8309 - accuracy: 0.6086 - val_loss: 0.8465 - val_accuracy: 0.5932\n",
      "Epoch 197/200\n",
      "4872/4872 [==============================] - 0s 91us/step - loss: 0.8290 - accuracy: 0.6119 - val_loss: 0.8499 - val_accuracy: 0.5852\n",
      "Epoch 198/200\n",
      "4872/4872 [==============================] - 0s 75us/step - loss: 0.8286 - accuracy: 0.6084 - val_loss: 0.8525 - val_accuracy: 0.5858\n",
      "Epoch 199/200\n",
      "4872/4872 [==============================] - 0s 69us/step - loss: 0.8276 - accuracy: 0.6092 - val_loss: 0.8490 - val_accuracy: 0.5982\n",
      "Epoch 200/200\n",
      "4872/4872 [==============================] - 0s 75us/step - loss: 0.8311 - accuracy: 0.6061 - val_loss: 0.8498 - val_accuracy: 0.5908\n",
      "Model fitted.\n",
      "Model saved as : model-07042020-111412.json\n",
      "Weights saved as : model-07042020-111412-weights.hd5\n"
     ]
    }
   ],
   "source": [
    "## treinando o modelo\n",
    "\n",
    "model.train()"
   ]
  },
  {
   "cell_type": "code",
   "execution_count": 10,
   "metadata": {},
   "outputs": [
    {
     "data": {
      "image/png": "[encoded data removed]",
      "text/plain": [
       "<Figure size 1080x648 with 2 Axes>"
      ]
     },
     "metadata": {
      "needs_background": "light"
     },
     "output_type": "display_data"
    }
   ],
   "source": [
    "## gerando as curvas\n",
    "\n",
    "model.generate_loss_curves()"
   ]
  },
  {
   "cell_type": "markdown",
   "metadata": {},
   "source": [
    "As curvas de loss em teste e validação demonstram que após um pouco mais de 10 épocas o modelo já consegue minimizar bem sua função. O comportamento de 'train_loss' e 'val_loss' não demonstram overfitting, também sustentado pelas curvas 'train_accuracy' e 'val_accuracy'."
   ]
  },
  {
   "cell_type": "code",
   "execution_count": 11,
   "metadata": {},
   "outputs": [
    {
     "data": {
      "image/png": "[encoded data removed]",
      "text/plain": [
       "<IPython.core.display.Image object>"
      ]
     },
     "execution_count": 11,
     "metadata": {},
     "output_type": "execute_result"
    }
   ],
   "source": [
    "## gerando o plot de arquitetura do modelo\n",
    "\n",
    "model.model_plot()"
   ]
  },
  {
   "cell_type": "markdown",
   "metadata": {},
   "source": [
    "A arquitetura demonstrada acima é composta por :\n",
    "\n",
    "Um layer de entrada com 16 neurônios de entrada e 16 saídas. Esse layer não efetua nenhum tipo de operação nos dados, somente os passa pra frente.\n",
    "\n",
    "Um layer (dense_1) densamente conectado de 8 neurônios que recebe 16 entradas em cada um deles e entrega 8 saídas. Esse layer já efetua operações com a ativação ReLU e com uma regularização l2.\n",
    "\n",
    "Um layer (dense_2) densamente conectado de 8 neurônios que recebe 8 entradas em cada um deles e entrega 8 saídas. Esse layer efetua operações com a ativação ReLU sem nenhuma regularização.\n",
    "\n",
    "Um layer (dense_3) densamente conectado de 8 neurônios que recebe 8 entradas em cada um deles e entrega 8 saídas. Esse layer efetua operações com a ativação ReLU e com uma regularização l2.\n",
    "\n",
    "Um layer de saída (dense_4) densamente conectado de 3 neurônios que recebe 8 entradas em cada um deles e entre 3 saídas. Esse layer efetua operações com a ativação SoftMax e sem regularização. O output produzido pela rede é um array contendo os valores de cada um dos três neurônios de saída, o maior valor representará a classe predita pelo modelo."
   ]
  },
  {
   "cell_type": "code",
   "execution_count": 32,
   "metadata": {},
   "outputs": [],
   "source": [
    "## exemplo de predict\n",
    "\n",
    "x1 = [0.,0.,0.,1.,0.03136936,-1.49033514, 2.40855037, 1.23935188,-0.15619937,-0.26268576,0.14731565,-0.1625524,0.32293199,-1.18952222,1.21013726,0.35081689]\n",
    "y1 = [2]\n",
    "\n",
    "x2 = [0.,1.,0.,0.,0.69112102,1.4979966,-0.96142934,-0.33485067,0.96742157,0.18420345,0.27699782,0.22777673,0.37897732,-0.53508282,-0.28482819,0.32293199]\n",
    "y2 = [0]\n",
    "\n",
    "x3 = [0.,0.,1.,0.,0.2406714,1.60746322,-0.10810309,-0.74469445,0.87527746,0.1887499,0.26436505,0.23263792,0.44968225,-0.57561258,-0.28482819,0.04440879]\n",
    "y3 = [0]"
   ]
  },
  {
   "cell_type": "code",
   "execution_count": 33,
   "metadata": {},
   "outputs": [
    {
     "data": {
      "text/plain": [
       "(array([[0.09103721, 0.53605044, 0.3729124 ]], dtype=float32), array([1]))"
      ]
     },
     "execution_count": 33,
     "metadata": {},
     "output_type": "execute_result"
    }
   ],
   "source": [
    "## predizendo a classe de x1\n",
    "model.predict(x1)"
   ]
  },
  {
   "cell_type": "markdown",
   "metadata": {},
   "source": [
    "O resultado acima demonstra um erro claro no model, o segundo valor (correspondente ao segundo neurônio da camada de saída) tem o maior valor por isso o .predict_classes retorna o valor 1. Ou seja o modelo prediz a classe errada, o correto seria classe 2."
   ]
  },
  {
   "cell_type": "code",
   "execution_count": 34,
   "metadata": {},
   "outputs": [
    {
     "data": {
      "text/plain": [
       "(array([[0.8280208 , 0.16723956, 0.00473968]], dtype=float32), array([0]))"
      ]
     },
     "execution_count": 34,
     "metadata": {},
     "output_type": "execute_result"
    }
   ],
   "source": [
    "## predizendo a classe de x2\n",
    "model.predict(x2)"
   ]
  },
  {
   "cell_type": "markdown",
   "metadata": {},
   "source": [
    "O resultado acima demonstra uma predição correta por parte do modelo. O primeiro valor (correspondente ao primeiro neurônio da camada de saída) tem o maior valor e por isso o .predict_classes retorna o valor 0. Ou seja, o modelo prediz corretamente a classe."
   ]
  },
  {
   "cell_type": "code",
   "execution_count": 35,
   "metadata": {},
   "outputs": [
    {
     "data": {
      "text/plain": [
       "(array([[0.82492864, 0.17015123, 0.00492018]], dtype=float32), array([0]))"
      ]
     },
     "execution_count": 35,
     "metadata": {},
     "output_type": "execute_result"
    }
   ],
   "source": [
    "## predizendo a classe de x3\n",
    "model.predict(x3)"
   ]
  },
  {
   "cell_type": "markdown",
   "metadata": {},
   "source": [
    "O resultado acima demonstra uma predição correta por parte do modelo. O primeiro valor (correspondente ao primeiro neurônio da camada de saída) tem o maior valor e por isso o .predict_classes retorna o valor 0. Ou seja, o modelo prediz corretamente a classe."
   ]
  },
  {
   "cell_type": "code",
   "execution_count": 36,
   "metadata": {},
   "outputs": [
    {
     "name": "stdout",
     "output_type": "stream",
     "text": [
      "                     precision    recall  f1-score   support\n",
      "\n",
      "   low_quality_wine       0.66      0.63      0.64       584\n",
      "medium_quality_wine       0.54      0.68      0.61       738\n",
      "  high_quality_wine       0.64      0.28      0.39       303\n",
      "\n",
      "           accuracy                           0.59      1625\n",
      "          macro avg       0.61      0.53      0.55      1625\n",
      "       weighted avg       0.60      0.59      0.58      1625\n",
      "\n"
     ]
    }
   ],
   "source": [
    "## gerando a matrix de confusão\n",
    "\n",
    "print(model.confusion_matrix())"
   ]
  },
  {
   "cell_type": "markdown",
   "metadata": {},
   "source": [
    "O dataset foi dividido em teste e treino. O dataset de treino tem 4872 linhas (ou datapoints) para treinamento e o dataset de teste tem 1625 linhas (ou datapoints). Essa proporção foi definida no momento de criação do modelo pelo parâmetro 'test_size = 0.25' significando que o dataset de treino corresponde exatamente a 25% do tamanho total do dataset. Vale a pena citar que a divisão de treino e teste foi feita de uma foram estratificada, ou seja, os datasets resultantes respeitam o a distribuição de probabilidades do Y do dataset original.\n",
    "\n",
    "Os resultados da matriz de confusão acima demonstram que o modelo pode ser utilizado visto que em situações reais, se utilizarmos a distribuição de probabilidade do dataset original acertaríamos somente 33% das vezes (conforme demonstrado abaixo) e com o modelo acertaríamos em média 59% das vezes."
   ]
  },
  {
   "cell_type": "code",
   "execution_count": 47,
   "metadata": {},
   "outputs": [
    {
     "data": {
      "text/plain": [
       "0.3333333333333333"
      ]
     },
     "execution_count": 47,
     "metadata": {},
     "output_type": "execute_result"
    }
   ],
   "source": [
    "import pandas as pd\n",
    "pd.Series(model.y).value_counts(normalize=True).mean()"
   ]
  },
  {
   "cell_type": "markdown",
   "metadata": {},
   "source": [
    "Para conseguir melhores resultados, creio que seria necessário alterar a forma de tratamento dos dados. Provavelmente alterar a minha função que escala todos os dados (QuantileTransformer) para outra (StandardScaler ou MinMaxScaler), algo que possivelmente pode melhorar os resultados é a alteração da quantidade de classes aumentar o número de classes para que a variação dos dados intra-classe seja menor e o modelo possa ser mais preciso em suas predições."
   ]
  }
 ],
 "metadata": {
  "kernelspec": {
   "display_name": "Python 3.7.6 64-bit ('wine-quality': conda)",
   "language": "python",
   "name": "python37664bitwinequalitycondab9c7a75121f343d19cab1743b5b38668"
  },
  "language_info": {
   "codemirror_mode": {
    "name": "ipython",
    "version": 3
   },
   "file_extension": ".py",
   "mimetype": "text/x-python",
   "name": "python",
   "nbconvert_exporter": "python",
   "pygments_lexer": "ipython3",
   "version": "3.7.6"
  }
 },
 "nbformat": 4,
 "nbformat_minor": 4
}
